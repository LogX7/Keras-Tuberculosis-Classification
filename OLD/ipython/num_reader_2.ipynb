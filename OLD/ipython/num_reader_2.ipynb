{
 "cells": [
  {
   "cell_type": "code",
   "execution_count": 2,
   "metadata": {},
   "outputs": [],
   "source": [
    "import tensorflow as tf \n",
    "import csv\n",
    "from numpy import array\n",
    "\n",
    "def readcsv(filename):\t\n",
    "    ifile = open(filename, \"r\")\n",
    "    reader = csv.reader(ifile, delimiter=\";\")\n",
    "\n",
    "    rownum = 0\t\n",
    "    a = []\n",
    "\n",
    "    for row in reader:\n",
    "        a += [row[0].split(',')]\n",
    "        rownum += 1\n",
    "    \n",
    "    \n",
    "    for i in range(len(a)):\n",
    "        for j in range(len(a[i])):\n",
    "            try:\n",
    "                a[i][j] = eval(a[i][j])\n",
    "            except:\n",
    "                pass\n",
    "    \n",
    "    ifile.close()\n",
    "    return a\n"
   ]
  },
  {
   "cell_type": "code",
   "execution_count": 3,
   "metadata": {},
   "outputs": [],
   "source": [
    "train = readcsv('./train.csv')[1:]\n",
    "test = readcsv('./test.csv')[1:]"
   ]
  },
  {
   "cell_type": "code",
   "execution_count": 4,
   "metadata": {},
   "outputs": [],
   "source": [
    "x_train = array([row[:-1] for row in train])\n",
    "y_train = array([row[-1] for row in train])\n",
    "\n",
    "x_test = array([row[:-1] for row in test])\n",
    "y_test = array([row[-1] for row in test])"
   ]
  },
  {
   "cell_type": "code",
   "execution_count": 5,
   "metadata": {
    "scrolled": true
   },
   "outputs": [],
   "source": [
    "# print(x_train)"
   ]
  },
  {
   "cell_type": "code",
   "execution_count": 6,
   "metadata": {},
   "outputs": [],
   "source": [
    "x_train_normalized = tf.keras.utils.normalize(x_train, axis = 1)\n",
    "x_test_normalized = tf.keras.utils.normalize(x_test, axis = 1)"
   ]
  },
  {
   "cell_type": "code",
   "execution_count": 7,
   "metadata": {},
   "outputs": [],
   "source": [
    "# print(x_train_normalized[0])"
   ]
  },
  {
   "cell_type": "code",
   "execution_count": 8,
   "metadata": {},
   "outputs": [
    {
     "name": "stdout",
     "output_type": "stream",
     "text": [
      "Epoch 1/3\n",
      "130/130 [==============================] - 0s 2ms/step - loss: 1.5460 - acc: 0.2923\n",
      "Epoch 2/3\n",
      "130/130 [==============================] - 0s 165us/step - loss: 1.4590 - acc: 0.4231\n",
      "Epoch 3/3\n",
      "130/130 [==============================] - 0s 160us/step - loss: 1.4470 - acc: 0.4231\n"
     ]
    },
    {
     "data": {
      "text/plain": [
       "<tensorflow.python.keras.callbacks.History at 0x7fc784932d30>"
      ]
     },
     "execution_count": 8,
     "metadata": {},
     "output_type": "execute_result"
    }
   ],
   "source": [
    "## model\n",
    "model = tf.keras.models.Sequential()\n",
    "\n",
    "\n",
    "## hidden layer\n",
    "model.add(tf.keras.layers.Dense(130, activation = tf.nn.relu))\n",
    "\n",
    "\n",
    "## output layer \n",
    "model.add(tf.keras.layers.Dense(5, activation = tf.nn.softmax))\n",
    "\n",
    "## cost\n",
    "model.compile(optimizer = 'adam', loss = 'sparse_categorical_crossentropy', metrics=['accuracy'])\n",
    "\n",
    "## learning\n",
    "model.fit(x_train, y_train, epochs = 3)"
   ]
  },
  {
   "cell_type": "code",
   "execution_count": 9,
   "metadata": {},
   "outputs": [
    {
     "name": "stdout",
     "output_type": "stream",
     "text": [
      "34/34 [==============================] - 0s 2ms/step\n",
      "Loss 1.3586367298575008 \n",
      "Accuracy 0.7058823529411765\n"
     ]
    }
   ],
   "source": [
    "val_loss, val_acc = model.evaluate(x_test, y_test)\n",
    "print(\"Loss {} \\nAccuracy {}\".format(val_loss, val_acc))"
   ]
  }
 ],
 "metadata": {
  "kernelspec": {
   "display_name": "Python 3",
   "language": "python",
   "name": "python3"
  },
  "language_info": {
   "codemirror_mode": {
    "name": "ipython",
    "version": 3
   },
   "file_extension": ".py",
   "mimetype": "text/x-python",
   "name": "python",
   "nbconvert_exporter": "python",
   "pygments_lexer": "ipython3",
   "version": "3.6.7"
  }
 },
 "nbformat": 4,
 "nbformat_minor": 2
}
